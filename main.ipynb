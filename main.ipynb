{
 "nbformat": 4,
 "nbformat_minor": 2,
 "metadata": {
  "language_info": {
   "name": "python",
   "codemirror_mode": {
    "name": "ipython",
    "version": 3
   },
   "version": "3.7.3-final"
  },
  "orig_nbformat": 2,
  "file_extension": ".py",
  "mimetype": "text/x-python",
  "name": "python",
  "npconvert_exporter": "python",
  "pygments_lexer": "ipython3",
  "version": 3,
  "kernelspec": {
   "name": "python37364bitbaseconda3c0bd736d53448a0aba23be8ae2f7389",
   "display_name": "Python 3.7.3 64-bit ('base': conda)"
  }
 },
 "cells": [
  {
   "cell_type": "code",
   "execution_count": 2,
   "metadata": {},
   "outputs": [
    {
     "name": "stderr",
     "output_type": "stream",
     "text": "Using TensorFlow backend.\n"
    }
   ],
   "source": [
    "import pandas as pd\n",
    "import numpy as np\n",
    "from scipy.stats import pearsonr\n",
    "import BaseFrame as bf\n",
    "import corr as cr\n",
    "import keras\n",
    "import MyLSTMModel"
   ]
  },
  {
   "cell_type": "code",
   "execution_count": 5,
   "metadata": {},
   "outputs": [],
   "source": [
    "stores_CA = data.loc[data.state_id == 'CA'].store_id.unique()"
   ]
  },
  {
   "cell_type": "code",
   "execution_count": 6,
   "metadata": {},
   "outputs": [],
   "source": [
    "store = stores_CA[0]"
   ]
  },
  {
   "cell_type": "code",
   "execution_count": 7,
   "metadata": {},
   "outputs": [],
   "source": [
    "data_store = data.loc[data.store_id == store]"
   ]
  },
  {
   "cell_type": "code",
   "execution_count": 8,
   "metadata": {},
   "outputs": [],
   "source": [
    "cats = data_store.cat_id.unique()"
   ]
  },
  {
   "cell_type": "code",
   "execution_count": 9,
   "metadata": {},
   "outputs": [],
   "source": [
    "cat = cats[0]"
   ]
  },
  {
   "cell_type": "code",
   "execution_count": 10,
   "metadata": {},
   "outputs": [],
   "source": [
    "data_store_cat = data_store.loc[data_store.cat_id == cat]\n",
    "data_sales = data_store_cat[data_store_cat.columns[6:]].T\n",
    "data_sales.columns = data_store_cat.id"
   ]
  },
  {
   "cell_type": "code",
   "execution_count": 11,
   "metadata": {},
   "outputs": [
    {
     "data": {
      "text/html": "<div>\n<style scoped>\n    .dataframe tbody tr th:only-of-type {\n        vertical-align: middle;\n    }\n\n    .dataframe tbody tr th {\n        vertical-align: top;\n    }\n\n    .dataframe thead th {\n        text-align: right;\n    }\n</style>\n<table border=\"1\" class=\"dataframe\">\n  <thead>\n    <tr style=\"text-align: right;\">\n      <th>id</th>\n      <th>HOBBIES_1_001_CA_1_validation</th>\n      <th>HOBBIES_1_002_CA_1_validation</th>\n      <th>HOBBIES_1_003_CA_1_validation</th>\n      <th>HOBBIES_1_004_CA_1_validation</th>\n      <th>HOBBIES_1_005_CA_1_validation</th>\n      <th>HOBBIES_1_006_CA_1_validation</th>\n      <th>HOBBIES_1_007_CA_1_validation</th>\n      <th>HOBBIES_1_008_CA_1_validation</th>\n      <th>HOBBIES_1_009_CA_1_validation</th>\n      <th>HOBBIES_1_010_CA_1_validation</th>\n      <th>...</th>\n      <th>HOBBIES_2_140_CA_1_validation</th>\n      <th>HOBBIES_2_141_CA_1_validation</th>\n      <th>HOBBIES_2_142_CA_1_validation</th>\n      <th>HOBBIES_2_143_CA_1_validation</th>\n      <th>HOBBIES_2_144_CA_1_validation</th>\n      <th>HOBBIES_2_145_CA_1_validation</th>\n      <th>HOBBIES_2_146_CA_1_validation</th>\n      <th>HOBBIES_2_147_CA_1_validation</th>\n      <th>HOBBIES_2_148_CA_1_validation</th>\n      <th>HOBBIES_2_149_CA_1_validation</th>\n    </tr>\n  </thead>\n  <tbody>\n    <tr>\n      <th>d_1</th>\n      <td>0</td>\n      <td>0</td>\n      <td>0</td>\n      <td>0</td>\n      <td>0</td>\n      <td>0</td>\n      <td>0</td>\n      <td>12</td>\n      <td>2</td>\n      <td>0</td>\n      <td>...</td>\n      <td>0</td>\n      <td>0</td>\n      <td>2</td>\n      <td>0</td>\n      <td>0</td>\n      <td>0</td>\n      <td>0</td>\n      <td>0</td>\n      <td>0</td>\n      <td>0</td>\n    </tr>\n    <tr>\n      <th>d_2</th>\n      <td>0</td>\n      <td>0</td>\n      <td>0</td>\n      <td>0</td>\n      <td>0</td>\n      <td>0</td>\n      <td>0</td>\n      <td>15</td>\n      <td>0</td>\n      <td>0</td>\n      <td>...</td>\n      <td>0</td>\n      <td>0</td>\n      <td>0</td>\n      <td>0</td>\n      <td>0</td>\n      <td>0</td>\n      <td>0</td>\n      <td>0</td>\n      <td>0</td>\n      <td>0</td>\n    </tr>\n    <tr>\n      <th>d_3</th>\n      <td>0</td>\n      <td>0</td>\n      <td>0</td>\n      <td>0</td>\n      <td>0</td>\n      <td>0</td>\n      <td>0</td>\n      <td>0</td>\n      <td>7</td>\n      <td>1</td>\n      <td>...</td>\n      <td>0</td>\n      <td>0</td>\n      <td>0</td>\n      <td>0</td>\n      <td>0</td>\n      <td>0</td>\n      <td>0</td>\n      <td>0</td>\n      <td>0</td>\n      <td>0</td>\n    </tr>\n    <tr>\n      <th>d_4</th>\n      <td>0</td>\n      <td>0</td>\n      <td>0</td>\n      <td>0</td>\n      <td>0</td>\n      <td>0</td>\n      <td>0</td>\n      <td>0</td>\n      <td>3</td>\n      <td>0</td>\n      <td>...</td>\n      <td>0</td>\n      <td>0</td>\n      <td>0</td>\n      <td>0</td>\n      <td>0</td>\n      <td>0</td>\n      <td>0</td>\n      <td>0</td>\n      <td>0</td>\n      <td>0</td>\n    </tr>\n    <tr>\n      <th>d_5</th>\n      <td>0</td>\n      <td>0</td>\n      <td>0</td>\n      <td>0</td>\n      <td>0</td>\n      <td>0</td>\n      <td>0</td>\n      <td>0</td>\n      <td>0</td>\n      <td>0</td>\n      <td>...</td>\n      <td>0</td>\n      <td>0</td>\n      <td>0</td>\n      <td>0</td>\n      <td>0</td>\n      <td>0</td>\n      <td>0</td>\n      <td>0</td>\n      <td>0</td>\n      <td>0</td>\n    </tr>\n    <tr>\n      <th>...</th>\n      <td>...</td>\n      <td>...</td>\n      <td>...</td>\n      <td>...</td>\n      <td>...</td>\n      <td>...</td>\n      <td>...</td>\n      <td>...</td>\n      <td>...</td>\n      <td>...</td>\n      <td>...</td>\n      <td>...</td>\n      <td>...</td>\n      <td>...</td>\n      <td>...</td>\n      <td>...</td>\n      <td>...</td>\n      <td>...</td>\n      <td>...</td>\n      <td>...</td>\n      <td>...</td>\n    </tr>\n    <tr>\n      <th>d_1909</th>\n      <td>1</td>\n      <td>1</td>\n      <td>1</td>\n      <td>0</td>\n      <td>1</td>\n      <td>0</td>\n      <td>1</td>\n      <td>4</td>\n      <td>0</td>\n      <td>0</td>\n      <td>...</td>\n      <td>0</td>\n      <td>0</td>\n      <td>0</td>\n      <td>0</td>\n      <td>0</td>\n      <td>0</td>\n      <td>0</td>\n      <td>0</td>\n      <td>0</td>\n      <td>0</td>\n    </tr>\n    <tr>\n      <th>d_1910</th>\n      <td>3</td>\n      <td>0</td>\n      <td>0</td>\n      <td>1</td>\n      <td>2</td>\n      <td>0</td>\n      <td>0</td>\n      <td>6</td>\n      <td>0</td>\n      <td>0</td>\n      <td>...</td>\n      <td>0</td>\n      <td>0</td>\n      <td>0</td>\n      <td>0</td>\n      <td>0</td>\n      <td>0</td>\n      <td>0</td>\n      <td>0</td>\n      <td>0</td>\n      <td>0</td>\n    </tr>\n    <tr>\n      <th>d_1911</th>\n      <td>0</td>\n      <td>0</td>\n      <td>1</td>\n      <td>3</td>\n      <td>2</td>\n      <td>2</td>\n      <td>0</td>\n      <td>3</td>\n      <td>0</td>\n      <td>2</td>\n      <td>...</td>\n      <td>2</td>\n      <td>0</td>\n      <td>0</td>\n      <td>1</td>\n      <td>0</td>\n      <td>0</td>\n      <td>0</td>\n      <td>0</td>\n      <td>0</td>\n      <td>0</td>\n    </tr>\n    <tr>\n      <th>d_1912</th>\n      <td>1</td>\n      <td>0</td>\n      <td>1</td>\n      <td>7</td>\n      <td>2</td>\n      <td>0</td>\n      <td>1</td>\n      <td>2</td>\n      <td>0</td>\n      <td>0</td>\n      <td>...</td>\n      <td>0</td>\n      <td>0</td>\n      <td>0</td>\n      <td>0</td>\n      <td>1</td>\n      <td>0</td>\n      <td>0</td>\n      <td>0</td>\n      <td>0</td>\n      <td>0</td>\n    </tr>\n    <tr>\n      <th>d_1913</th>\n      <td>1</td>\n      <td>0</td>\n      <td>1</td>\n      <td>2</td>\n      <td>4</td>\n      <td>0</td>\n      <td>1</td>\n      <td>1</td>\n      <td>0</td>\n      <td>2</td>\n      <td>...</td>\n      <td>0</td>\n      <td>0</td>\n      <td>0</td>\n      <td>0</td>\n      <td>0</td>\n      <td>0</td>\n      <td>0</td>\n      <td>2</td>\n      <td>0</td>\n      <td>1</td>\n    </tr>\n  </tbody>\n</table>\n<p>1913 rows × 565 columns</p>\n</div>",
      "text/plain": "id      HOBBIES_1_001_CA_1_validation  HOBBIES_1_002_CA_1_validation  \\\nd_1                                 0                              0   \nd_2                                 0                              0   \nd_3                                 0                              0   \nd_4                                 0                              0   \nd_5                                 0                              0   \n...                               ...                            ...   \nd_1909                              1                              1   \nd_1910                              3                              0   \nd_1911                              0                              0   \nd_1912                              1                              0   \nd_1913                              1                              0   \n\nid      HOBBIES_1_003_CA_1_validation  HOBBIES_1_004_CA_1_validation  \\\nd_1                                 0                              0   \nd_2                                 0                              0   \nd_3                                 0                              0   \nd_4                                 0                              0   \nd_5                                 0                              0   \n...                               ...                            ...   \nd_1909                              1                              0   \nd_1910                              0                              1   \nd_1911                              1                              3   \nd_1912                              1                              7   \nd_1913                              1                              2   \n\nid      HOBBIES_1_005_CA_1_validation  HOBBIES_1_006_CA_1_validation  \\\nd_1                                 0                              0   \nd_2                                 0                              0   \nd_3                                 0                              0   \nd_4                                 0                              0   \nd_5                                 0                              0   \n...                               ...                            ...   \nd_1909                              1                              0   \nd_1910                              2                              0   \nd_1911                              2                              2   \nd_1912                              2                              0   \nd_1913                              4                              0   \n\nid      HOBBIES_1_007_CA_1_validation  HOBBIES_1_008_CA_1_validation  \\\nd_1                                 0                             12   \nd_2                                 0                             15   \nd_3                                 0                              0   \nd_4                                 0                              0   \nd_5                                 0                              0   \n...                               ...                            ...   \nd_1909                              1                              4   \nd_1910                              0                              6   \nd_1911                              0                              3   \nd_1912                              1                              2   \nd_1913                              1                              1   \n\nid      HOBBIES_1_009_CA_1_validation  HOBBIES_1_010_CA_1_validation  ...  \\\nd_1                                 2                              0  ...   \nd_2                                 0                              0  ...   \nd_3                                 7                              1  ...   \nd_4                                 3                              0  ...   \nd_5                                 0                              0  ...   \n...                               ...                            ...  ...   \nd_1909                              0                              0  ...   \nd_1910                              0                              0  ...   \nd_1911                              0                              2  ...   \nd_1912                              0                              0  ...   \nd_1913                              0                              2  ...   \n\nid      HOBBIES_2_140_CA_1_validation  HOBBIES_2_141_CA_1_validation  \\\nd_1                                 0                              0   \nd_2                                 0                              0   \nd_3                                 0                              0   \nd_4                                 0                              0   \nd_5                                 0                              0   \n...                               ...                            ...   \nd_1909                              0                              0   \nd_1910                              0                              0   \nd_1911                              2                              0   \nd_1912                              0                              0   \nd_1913                              0                              0   \n\nid      HOBBIES_2_142_CA_1_validation  HOBBIES_2_143_CA_1_validation  \\\nd_1                                 2                              0   \nd_2                                 0                              0   \nd_3                                 0                              0   \nd_4                                 0                              0   \nd_5                                 0                              0   \n...                               ...                            ...   \nd_1909                              0                              0   \nd_1910                              0                              0   \nd_1911                              0                              1   \nd_1912                              0                              0   \nd_1913                              0                              0   \n\nid      HOBBIES_2_144_CA_1_validation  HOBBIES_2_145_CA_1_validation  \\\nd_1                                 0                              0   \nd_2                                 0                              0   \nd_3                                 0                              0   \nd_4                                 0                              0   \nd_5                                 0                              0   \n...                               ...                            ...   \nd_1909                              0                              0   \nd_1910                              0                              0   \nd_1911                              0                              0   \nd_1912                              1                              0   \nd_1913                              0                              0   \n\nid      HOBBIES_2_146_CA_1_validation  HOBBIES_2_147_CA_1_validation  \\\nd_1                                 0                              0   \nd_2                                 0                              0   \nd_3                                 0                              0   \nd_4                                 0                              0   \nd_5                                 0                              0   \n...                               ...                            ...   \nd_1909                              0                              0   \nd_1910                              0                              0   \nd_1911                              0                              0   \nd_1912                              0                              0   \nd_1913                              0                              2   \n\nid      HOBBIES_2_148_CA_1_validation  HOBBIES_2_149_CA_1_validation  \nd_1                                 0                              0  \nd_2                                 0                              0  \nd_3                                 0                              0  \nd_4                                 0                              0  \nd_5                                 0                              0  \n...                               ...                            ...  \nd_1909                              0                              0  \nd_1910                              0                              0  \nd_1911                              0                              0  \nd_1912                              0                              0  \nd_1913                              0                              1  \n\n[1913 rows x 565 columns]"
     },
     "execution_count": 11,
     "metadata": {},
     "output_type": "execute_result"
    }
   ],
   "source": [
    "data_sales"
   ]
  },
  {
   "cell_type": "code",
   "execution_count": 15,
   "metadata": {},
   "outputs": [],
   "source": [
    "one = data_sales[data_sales.columns[1]]"
   ]
  },
  {
   "cell_type": "code",
   "execution_count": 16,
   "metadata": {},
   "outputs": [
    {
     "data": {
      "text/plain": "d_1       0\nd_2       0\nd_3       0\nd_4       0\nd_5       0\n         ..\nd_1909    1\nd_1910    0\nd_1911    0\nd_1912    0\nd_1913    0\nName: HOBBIES_1_002_CA_1_validation, Length: 1913, dtype: int64"
     },
     "execution_count": 16,
     "metadata": {},
     "output_type": "execute_result"
    }
   ],
   "source": [
    "one"
   ]
  },
  {
   "cell_type": "code",
   "execution_count": 17,
   "metadata": {},
   "outputs": [
    {
     "data": {
      "text/plain": "d_1909    1\nd_1910    0\nd_1911    0\nd_1912    0\nd_1913    0\nName: HOBBIES_1_002_CA_1_validation, dtype: int64"
     },
     "execution_count": 17,
     "metadata": {},
     "output_type": "execute_result"
    }
   ],
   "source": [
    "one.tail()"
   ]
  },
  {
   "cell_type": "code",
   "execution_count": 21,
   "metadata": {},
   "outputs": [],
   "source": [
    "corr = pd.read_csv('corr.csv')"
   ]
  },
  {
   "cell_type": "code",
   "execution_count": 22,
   "metadata": {},
   "outputs": [
    {
     "data": {
      "text/html": "<div>\n<style scoped>\n    .dataframe tbody tr th:only-of-type {\n        vertical-align: middle;\n    }\n\n    .dataframe tbody tr th {\n        vertical-align: top;\n    }\n\n    .dataframe thead th {\n        text-align: right;\n    }\n</style>\n<table border=\"1\" class=\"dataframe\">\n  <thead>\n    <tr style=\"text-align: right;\">\n      <th></th>\n      <th>id</th>\n      <th>HOBBIES_1_001_CA_1_validation</th>\n      <th>HOBBIES_1_002_CA_1_validation</th>\n      <th>HOBBIES_1_003_CA_1_validation</th>\n      <th>HOBBIES_1_004_CA_1_validation</th>\n      <th>HOBBIES_1_005_CA_1_validation</th>\n      <th>HOBBIES_1_006_CA_1_validation</th>\n      <th>HOBBIES_1_007_CA_1_validation</th>\n      <th>HOBBIES_1_008_CA_1_validation</th>\n      <th>HOBBIES_1_009_CA_1_validation</th>\n      <th>...</th>\n      <th>HOBBIES_2_140_CA_1_validation</th>\n      <th>HOBBIES_2_141_CA_1_validation</th>\n      <th>HOBBIES_2_142_CA_1_validation</th>\n      <th>HOBBIES_2_143_CA_1_validation</th>\n      <th>HOBBIES_2_144_CA_1_validation</th>\n      <th>HOBBIES_2_145_CA_1_validation</th>\n      <th>HOBBIES_2_146_CA_1_validation</th>\n      <th>HOBBIES_2_147_CA_1_validation</th>\n      <th>HOBBIES_2_148_CA_1_validation</th>\n      <th>HOBBIES_2_149_CA_1_validation</th>\n    </tr>\n  </thead>\n  <tbody>\n    <tr>\n      <th>0</th>\n      <td>HOBBIES_1_001_CA_1_validation</td>\n      <td>0.000000</td>\n      <td>0.043393</td>\n      <td>0.173605</td>\n      <td>0.188614</td>\n      <td>0.050161</td>\n      <td>-0.040787</td>\n      <td>0.051493</td>\n      <td>0.069851</td>\n      <td>-0.110091</td>\n      <td>...</td>\n      <td>0.126433</td>\n      <td>0.112603</td>\n      <td>-0.046513</td>\n      <td>0.040729</td>\n      <td>0.147866</td>\n      <td>0.052642</td>\n      <td>0.005271</td>\n      <td>0.138002</td>\n      <td>0.087955</td>\n      <td>0.113211</td>\n    </tr>\n    <tr>\n      <th>1</th>\n      <td>HOBBIES_1_002_CA_1_validation</td>\n      <td>0.043393</td>\n      <td>0.000000</td>\n      <td>0.093971</td>\n      <td>0.005377</td>\n      <td>0.137294</td>\n      <td>0.046651</td>\n      <td>0.050519</td>\n      <td>0.015402</td>\n      <td>-0.056860</td>\n      <td>...</td>\n      <td>0.011553</td>\n      <td>-0.000747</td>\n      <td>0.057872</td>\n      <td>0.000811</td>\n      <td>-0.006659</td>\n      <td>-0.009109</td>\n      <td>0.000631</td>\n      <td>0.023619</td>\n      <td>0.027308</td>\n      <td>0.039993</td>\n    </tr>\n    <tr>\n      <th>2</th>\n      <td>HOBBIES_1_003_CA_1_validation</td>\n      <td>0.173605</td>\n      <td>0.093971</td>\n      <td>0.000000</td>\n      <td>0.049156</td>\n      <td>0.061977</td>\n      <td>-0.021336</td>\n      <td>0.030205</td>\n      <td>0.089957</td>\n      <td>-0.112340</td>\n      <td>...</td>\n      <td>0.040214</td>\n      <td>0.019462</td>\n      <td>-0.039362</td>\n      <td>0.009017</td>\n      <td>0.069037</td>\n      <td>0.071217</td>\n      <td>0.006161</td>\n      <td>0.051979</td>\n      <td>0.066304</td>\n      <td>0.138260</td>\n    </tr>\n    <tr>\n      <th>3</th>\n      <td>HOBBIES_1_004_CA_1_validation</td>\n      <td>0.188614</td>\n      <td>0.005377</td>\n      <td>0.049156</td>\n      <td>0.000000</td>\n      <td>0.088325</td>\n      <td>0.016183</td>\n      <td>0.041832</td>\n      <td>0.066355</td>\n      <td>-0.028028</td>\n      <td>...</td>\n      <td>0.096929</td>\n      <td>0.098050</td>\n      <td>0.026729</td>\n      <td>0.048281</td>\n      <td>0.064108</td>\n      <td>0.029306</td>\n      <td>0.047633</td>\n      <td>0.103920</td>\n      <td>0.038441</td>\n      <td>0.077095</td>\n    </tr>\n    <tr>\n      <th>4</th>\n      <td>HOBBIES_1_005_CA_1_validation</td>\n      <td>0.050161</td>\n      <td>0.137294</td>\n      <td>0.061977</td>\n      <td>0.088325</td>\n      <td>0.000000</td>\n      <td>0.017975</td>\n      <td>0.045025</td>\n      <td>0.015498</td>\n      <td>-0.022074</td>\n      <td>...</td>\n      <td>0.062431</td>\n      <td>0.051051</td>\n      <td>0.032877</td>\n      <td>0.021842</td>\n      <td>0.036206</td>\n      <td>0.000474</td>\n      <td>0.028979</td>\n      <td>0.027637</td>\n      <td>0.023258</td>\n      <td>0.069865</td>\n    </tr>\n    <tr>\n      <th>...</th>\n      <td>...</td>\n      <td>...</td>\n      <td>...</td>\n      <td>...</td>\n      <td>...</td>\n      <td>...</td>\n      <td>...</td>\n      <td>...</td>\n      <td>...</td>\n      <td>...</td>\n      <td>...</td>\n      <td>...</td>\n      <td>...</td>\n      <td>...</td>\n      <td>...</td>\n      <td>...</td>\n      <td>...</td>\n      <td>...</td>\n      <td>...</td>\n      <td>...</td>\n      <td>...</td>\n    </tr>\n    <tr>\n      <th>560</th>\n      <td>HOBBIES_2_145_CA_1_validation</td>\n      <td>0.052642</td>\n      <td>-0.009109</td>\n      <td>0.071217</td>\n      <td>0.029306</td>\n      <td>0.000474</td>\n      <td>0.012976</td>\n      <td>-0.028008</td>\n      <td>0.043017</td>\n      <td>0.014377</td>\n      <td>...</td>\n      <td>0.000022</td>\n      <td>0.013771</td>\n      <td>-0.014805</td>\n      <td>-0.001545</td>\n      <td>0.010890</td>\n      <td>0.000000</td>\n      <td>0.003481</td>\n      <td>0.000581</td>\n      <td>0.027153</td>\n      <td>0.012229</td>\n    </tr>\n    <tr>\n      <th>561</th>\n      <td>HOBBIES_2_146_CA_1_validation</td>\n      <td>0.005271</td>\n      <td>0.000631</td>\n      <td>0.006161</td>\n      <td>0.047633</td>\n      <td>0.028979</td>\n      <td>0.024900</td>\n      <td>0.021809</td>\n      <td>-0.013344</td>\n      <td>-0.014167</td>\n      <td>...</td>\n      <td>-0.008103</td>\n      <td>0.012169</td>\n      <td>-0.007054</td>\n      <td>-0.015230</td>\n      <td>0.024301</td>\n      <td>0.003481</td>\n      <td>0.000000</td>\n      <td>0.041941</td>\n      <td>-0.017657</td>\n      <td>0.034969</td>\n    </tr>\n    <tr>\n      <th>562</th>\n      <td>HOBBIES_2_147_CA_1_validation</td>\n      <td>0.138002</td>\n      <td>0.023619</td>\n      <td>0.051979</td>\n      <td>0.103920</td>\n      <td>0.027637</td>\n      <td>0.000171</td>\n      <td>0.071224</td>\n      <td>0.092670</td>\n      <td>-0.043129</td>\n      <td>...</td>\n      <td>0.059916</td>\n      <td>0.078107</td>\n      <td>-0.004881</td>\n      <td>0.087588</td>\n      <td>0.047456</td>\n      <td>0.000581</td>\n      <td>0.041941</td>\n      <td>0.000000</td>\n      <td>-0.022942</td>\n      <td>0.041870</td>\n    </tr>\n    <tr>\n      <th>563</th>\n      <td>HOBBIES_2_148_CA_1_validation</td>\n      <td>0.087955</td>\n      <td>0.027308</td>\n      <td>0.066304</td>\n      <td>0.038441</td>\n      <td>0.023258</td>\n      <td>-0.024515</td>\n      <td>0.042124</td>\n      <td>-0.006110</td>\n      <td>0.014895</td>\n      <td>...</td>\n      <td>0.089607</td>\n      <td>0.007064</td>\n      <td>0.052030</td>\n      <td>-0.009830</td>\n      <td>0.034128</td>\n      <td>0.027153</td>\n      <td>-0.017657</td>\n      <td>-0.022942</td>\n      <td>0.000000</td>\n      <td>0.149255</td>\n    </tr>\n    <tr>\n      <th>564</th>\n      <td>HOBBIES_2_149_CA_1_validation</td>\n      <td>0.113211</td>\n      <td>0.039993</td>\n      <td>0.138260</td>\n      <td>0.077095</td>\n      <td>0.069865</td>\n      <td>-0.004921</td>\n      <td>0.012344</td>\n      <td>0.059699</td>\n      <td>-0.080500</td>\n      <td>...</td>\n      <td>0.049028</td>\n      <td>0.039371</td>\n      <td>0.069705</td>\n      <td>0.010531</td>\n      <td>0.122964</td>\n      <td>0.012229</td>\n      <td>0.034969</td>\n      <td>0.041870</td>\n      <td>0.149255</td>\n      <td>0.000000</td>\n    </tr>\n  </tbody>\n</table>\n<p>565 rows × 566 columns</p>\n</div>",
      "text/plain": "                                id  HOBBIES_1_001_CA_1_validation  \\\n0    HOBBIES_1_001_CA_1_validation                       0.000000   \n1    HOBBIES_1_002_CA_1_validation                       0.043393   \n2    HOBBIES_1_003_CA_1_validation                       0.173605   \n3    HOBBIES_1_004_CA_1_validation                       0.188614   \n4    HOBBIES_1_005_CA_1_validation                       0.050161   \n..                             ...                            ...   \n560  HOBBIES_2_145_CA_1_validation                       0.052642   \n561  HOBBIES_2_146_CA_1_validation                       0.005271   \n562  HOBBIES_2_147_CA_1_validation                       0.138002   \n563  HOBBIES_2_148_CA_1_validation                       0.087955   \n564  HOBBIES_2_149_CA_1_validation                       0.113211   \n\n     HOBBIES_1_002_CA_1_validation  HOBBIES_1_003_CA_1_validation  \\\n0                         0.043393                       0.173605   \n1                         0.000000                       0.093971   \n2                         0.093971                       0.000000   \n3                         0.005377                       0.049156   \n4                         0.137294                       0.061977   \n..                             ...                            ...   \n560                      -0.009109                       0.071217   \n561                       0.000631                       0.006161   \n562                       0.023619                       0.051979   \n563                       0.027308                       0.066304   \n564                       0.039993                       0.138260   \n\n     HOBBIES_1_004_CA_1_validation  HOBBIES_1_005_CA_1_validation  \\\n0                         0.188614                       0.050161   \n1                         0.005377                       0.137294   \n2                         0.049156                       0.061977   \n3                         0.000000                       0.088325   \n4                         0.088325                       0.000000   \n..                             ...                            ...   \n560                       0.029306                       0.000474   \n561                       0.047633                       0.028979   \n562                       0.103920                       0.027637   \n563                       0.038441                       0.023258   \n564                       0.077095                       0.069865   \n\n     HOBBIES_1_006_CA_1_validation  HOBBIES_1_007_CA_1_validation  \\\n0                        -0.040787                       0.051493   \n1                         0.046651                       0.050519   \n2                        -0.021336                       0.030205   \n3                         0.016183                       0.041832   \n4                         0.017975                       0.045025   \n..                             ...                            ...   \n560                       0.012976                      -0.028008   \n561                       0.024900                       0.021809   \n562                       0.000171                       0.071224   \n563                      -0.024515                       0.042124   \n564                      -0.004921                       0.012344   \n\n     HOBBIES_1_008_CA_1_validation  HOBBIES_1_009_CA_1_validation  ...  \\\n0                         0.069851                      -0.110091  ...   \n1                         0.015402                      -0.056860  ...   \n2                         0.089957                      -0.112340  ...   \n3                         0.066355                      -0.028028  ...   \n4                         0.015498                      -0.022074  ...   \n..                             ...                            ...  ...   \n560                       0.043017                       0.014377  ...   \n561                      -0.013344                      -0.014167  ...   \n562                       0.092670                      -0.043129  ...   \n563                      -0.006110                       0.014895  ...   \n564                       0.059699                      -0.080500  ...   \n\n     HOBBIES_2_140_CA_1_validation  HOBBIES_2_141_CA_1_validation  \\\n0                         0.126433                       0.112603   \n1                         0.011553                      -0.000747   \n2                         0.040214                       0.019462   \n3                         0.096929                       0.098050   \n4                         0.062431                       0.051051   \n..                             ...                            ...   \n560                       0.000022                       0.013771   \n561                      -0.008103                       0.012169   \n562                       0.059916                       0.078107   \n563                       0.089607                       0.007064   \n564                       0.049028                       0.039371   \n\n     HOBBIES_2_142_CA_1_validation  HOBBIES_2_143_CA_1_validation  \\\n0                        -0.046513                       0.040729   \n1                         0.057872                       0.000811   \n2                        -0.039362                       0.009017   \n3                         0.026729                       0.048281   \n4                         0.032877                       0.021842   \n..                             ...                            ...   \n560                      -0.014805                      -0.001545   \n561                      -0.007054                      -0.015230   \n562                      -0.004881                       0.087588   \n563                       0.052030                      -0.009830   \n564                       0.069705                       0.010531   \n\n     HOBBIES_2_144_CA_1_validation  HOBBIES_2_145_CA_1_validation  \\\n0                         0.147866                       0.052642   \n1                        -0.006659                      -0.009109   \n2                         0.069037                       0.071217   \n3                         0.064108                       0.029306   \n4                         0.036206                       0.000474   \n..                             ...                            ...   \n560                       0.010890                       0.000000   \n561                       0.024301                       0.003481   \n562                       0.047456                       0.000581   \n563                       0.034128                       0.027153   \n564                       0.122964                       0.012229   \n\n     HOBBIES_2_146_CA_1_validation  HOBBIES_2_147_CA_1_validation  \\\n0                         0.005271                       0.138002   \n1                         0.000631                       0.023619   \n2                         0.006161                       0.051979   \n3                         0.047633                       0.103920   \n4                         0.028979                       0.027637   \n..                             ...                            ...   \n560                       0.003481                       0.000581   \n561                       0.000000                       0.041941   \n562                       0.041941                       0.000000   \n563                      -0.017657                      -0.022942   \n564                       0.034969                       0.041870   \n\n     HOBBIES_2_148_CA_1_validation  HOBBIES_2_149_CA_1_validation  \n0                         0.087955                       0.113211  \n1                         0.027308                       0.039993  \n2                         0.066304                       0.138260  \n3                         0.038441                       0.077095  \n4                         0.023258                       0.069865  \n..                             ...                            ...  \n560                       0.027153                       0.012229  \n561                      -0.017657                       0.034969  \n562                      -0.022942                       0.041870  \n563                       0.000000                       0.149255  \n564                       0.149255                       0.000000  \n\n[565 rows x 566 columns]"
     },
     "execution_count": 22,
     "metadata": {},
     "output_type": "execute_result"
    }
   ],
   "source": [
    "corr"
   ]
  },
  {
   "cell_type": "code",
   "execution_count": null,
   "metadata": {},
   "outputs": [],
   "source": []
  }
 ]
}