{
 "nbformat": 4,
 "nbformat_minor": 2,
 "metadata": {
  "language_info": {
   "name": "python",
   "codemirror_mode": {
    "name": "ipython",
    "version": 3
   },
   "version": "3.7.3-final"
  },
  "orig_nbformat": 2,
  "file_extension": ".py",
  "mimetype": "text/x-python",
  "name": "python",
  "npconvert_exporter": "python",
  "pygments_lexer": "ipython3",
  "version": 3,
  "kernelspec": {
   "name": "python37364bitbaseconda3c0bd736d53448a0aba23be8ae2f7389",
   "display_name": "Python 3.7.3 64-bit ('base': conda)"
  }
 },
 "cells": [
  {
   "cell_type": "code",
   "execution_count": 16,
   "metadata": {},
   "outputs": [],
   "source": [
    "import pandas as pd\n",
    "import numpy as np"
   ]
  },
  {
   "cell_type": "code",
   "execution_count": 17,
   "metadata": {},
   "outputs": [],
   "source": [
    "calendar = pd.read_csv('calendar.csv')"
   ]
  },
  {
   "cell_type": "code",
   "execution_count": 18,
   "metadata": {},
   "outputs": [
    {
     "data": {
      "text/html": "<div>\n<style scoped>\n    .dataframe tbody tr th:only-of-type {\n        vertical-align: middle;\n    }\n\n    .dataframe tbody tr th {\n        vertical-align: top;\n    }\n\n    .dataframe thead th {\n        text-align: right;\n    }\n</style>\n<table border=\"1\" class=\"dataframe\">\n  <thead>\n    <tr style=\"text-align: right;\">\n      <th></th>\n      <th>date</th>\n      <th>wm_yr_wk</th>\n      <th>weekday</th>\n      <th>wday</th>\n      <th>month</th>\n      <th>year</th>\n      <th>d</th>\n      <th>event_name_1</th>\n      <th>event_type_1</th>\n      <th>event_name_2</th>\n      <th>event_type_2</th>\n      <th>snap_CA</th>\n      <th>snap_TX</th>\n      <th>snap_WI</th>\n    </tr>\n  </thead>\n  <tbody>\n    <tr>\n      <th>0</th>\n      <td>2011-01-29</td>\n      <td>11101</td>\n      <td>Saturday</td>\n      <td>1</td>\n      <td>1</td>\n      <td>2011</td>\n      <td>d_1</td>\n      <td>NaN</td>\n      <td>NaN</td>\n      <td>NaN</td>\n      <td>NaN</td>\n      <td>0</td>\n      <td>0</td>\n      <td>0</td>\n    </tr>\n    <tr>\n      <th>1</th>\n      <td>2011-01-30</td>\n      <td>11101</td>\n      <td>Sunday</td>\n      <td>2</td>\n      <td>1</td>\n      <td>2011</td>\n      <td>d_2</td>\n      <td>NaN</td>\n      <td>NaN</td>\n      <td>NaN</td>\n      <td>NaN</td>\n      <td>0</td>\n      <td>0</td>\n      <td>0</td>\n    </tr>\n    <tr>\n      <th>2</th>\n      <td>2011-01-31</td>\n      <td>11101</td>\n      <td>Monday</td>\n      <td>3</td>\n      <td>1</td>\n      <td>2011</td>\n      <td>d_3</td>\n      <td>NaN</td>\n      <td>NaN</td>\n      <td>NaN</td>\n      <td>NaN</td>\n      <td>0</td>\n      <td>0</td>\n      <td>0</td>\n    </tr>\n    <tr>\n      <th>3</th>\n      <td>2011-02-01</td>\n      <td>11101</td>\n      <td>Tuesday</td>\n      <td>4</td>\n      <td>2</td>\n      <td>2011</td>\n      <td>d_4</td>\n      <td>NaN</td>\n      <td>NaN</td>\n      <td>NaN</td>\n      <td>NaN</td>\n      <td>1</td>\n      <td>1</td>\n      <td>0</td>\n    </tr>\n    <tr>\n      <th>4</th>\n      <td>2011-02-02</td>\n      <td>11101</td>\n      <td>Wednesday</td>\n      <td>5</td>\n      <td>2</td>\n      <td>2011</td>\n      <td>d_5</td>\n      <td>NaN</td>\n      <td>NaN</td>\n      <td>NaN</td>\n      <td>NaN</td>\n      <td>1</td>\n      <td>0</td>\n      <td>1</td>\n    </tr>\n    <tr>\n      <th>...</th>\n      <td>...</td>\n      <td>...</td>\n      <td>...</td>\n      <td>...</td>\n      <td>...</td>\n      <td>...</td>\n      <td>...</td>\n      <td>...</td>\n      <td>...</td>\n      <td>...</td>\n      <td>...</td>\n      <td>...</td>\n      <td>...</td>\n      <td>...</td>\n    </tr>\n    <tr>\n      <th>1964</th>\n      <td>2016-06-15</td>\n      <td>11620</td>\n      <td>Wednesday</td>\n      <td>5</td>\n      <td>6</td>\n      <td>2016</td>\n      <td>d_1965</td>\n      <td>NaN</td>\n      <td>NaN</td>\n      <td>NaN</td>\n      <td>NaN</td>\n      <td>0</td>\n      <td>1</td>\n      <td>1</td>\n    </tr>\n    <tr>\n      <th>1965</th>\n      <td>2016-06-16</td>\n      <td>11620</td>\n      <td>Thursday</td>\n      <td>6</td>\n      <td>6</td>\n      <td>2016</td>\n      <td>d_1966</td>\n      <td>NaN</td>\n      <td>NaN</td>\n      <td>NaN</td>\n      <td>NaN</td>\n      <td>0</td>\n      <td>0</td>\n      <td>0</td>\n    </tr>\n    <tr>\n      <th>1966</th>\n      <td>2016-06-17</td>\n      <td>11620</td>\n      <td>Friday</td>\n      <td>7</td>\n      <td>6</td>\n      <td>2016</td>\n      <td>d_1967</td>\n      <td>NaN</td>\n      <td>NaN</td>\n      <td>NaN</td>\n      <td>NaN</td>\n      <td>0</td>\n      <td>0</td>\n      <td>0</td>\n    </tr>\n    <tr>\n      <th>1967</th>\n      <td>2016-06-18</td>\n      <td>11621</td>\n      <td>Saturday</td>\n      <td>1</td>\n      <td>6</td>\n      <td>2016</td>\n      <td>d_1968</td>\n      <td>NaN</td>\n      <td>NaN</td>\n      <td>NaN</td>\n      <td>NaN</td>\n      <td>0</td>\n      <td>0</td>\n      <td>0</td>\n    </tr>\n    <tr>\n      <th>1968</th>\n      <td>2016-06-19</td>\n      <td>11621</td>\n      <td>Sunday</td>\n      <td>2</td>\n      <td>6</td>\n      <td>2016</td>\n      <td>d_1969</td>\n      <td>NBAFinalsEnd</td>\n      <td>Sporting</td>\n      <td>Father's day</td>\n      <td>Cultural</td>\n      <td>0</td>\n      <td>0</td>\n      <td>0</td>\n    </tr>\n  </tbody>\n</table>\n<p>1969 rows × 14 columns</p>\n</div>",
      "text/plain": "            date  wm_yr_wk    weekday  wday  month  year       d  \\\n0     2011-01-29     11101   Saturday     1      1  2011     d_1   \n1     2011-01-30     11101     Sunday     2      1  2011     d_2   \n2     2011-01-31     11101     Monday     3      1  2011     d_3   \n3     2011-02-01     11101    Tuesday     4      2  2011     d_4   \n4     2011-02-02     11101  Wednesday     5      2  2011     d_5   \n...          ...       ...        ...   ...    ...   ...     ...   \n1964  2016-06-15     11620  Wednesday     5      6  2016  d_1965   \n1965  2016-06-16     11620   Thursday     6      6  2016  d_1966   \n1966  2016-06-17     11620     Friday     7      6  2016  d_1967   \n1967  2016-06-18     11621   Saturday     1      6  2016  d_1968   \n1968  2016-06-19     11621     Sunday     2      6  2016  d_1969   \n\n      event_name_1 event_type_1  event_name_2 event_type_2  snap_CA  snap_TX  \\\n0              NaN          NaN           NaN          NaN        0        0   \n1              NaN          NaN           NaN          NaN        0        0   \n2              NaN          NaN           NaN          NaN        0        0   \n3              NaN          NaN           NaN          NaN        1        1   \n4              NaN          NaN           NaN          NaN        1        0   \n...            ...          ...           ...          ...      ...      ...   \n1964           NaN          NaN           NaN          NaN        0        1   \n1965           NaN          NaN           NaN          NaN        0        0   \n1966           NaN          NaN           NaN          NaN        0        0   \n1967           NaN          NaN           NaN          NaN        0        0   \n1968  NBAFinalsEnd     Sporting  Father's day     Cultural        0        0   \n\n      snap_WI  \n0           0  \n1           0  \n2           0  \n3           0  \n4           1  \n...       ...  \n1964        1  \n1965        0  \n1966        0  \n1967        0  \n1968        0  \n\n[1969 rows x 14 columns]"
     },
     "execution_count": 18,
     "metadata": {},
     "output_type": "execute_result"
    }
   ],
   "source": [
    "calendar"
   ]
  },
  {
   "cell_type": "code",
   "execution_count": 19,
   "metadata": {},
   "outputs": [],
   "source": [
    "drop_features = ['wm_yr_wk', 'wday',\n",
    "                     'month', 'year', 'd', 'snap_TX', 'snap_WI', 'event_name_1', 'event_name_2']"
   ]
  },
  {
   "cell_type": "code",
   "execution_count": 20,
   "metadata": {},
   "outputs": [],
   "source": [
    "calendar = calendar.drop(drop_features, axis=1)\n",
    "calendar = calendar.set_index('date')"
   ]
  },
  {
   "cell_type": "code",
   "execution_count": 21,
   "metadata": {},
   "outputs": [
    {
     "data": {
      "text/html": "<div>\n<style scoped>\n    .dataframe tbody tr th:only-of-type {\n        vertical-align: middle;\n    }\n\n    .dataframe tbody tr th {\n        vertical-align: top;\n    }\n\n    .dataframe thead th {\n        text-align: right;\n    }\n</style>\n<table border=\"1\" class=\"dataframe\">\n  <thead>\n    <tr style=\"text-align: right;\">\n      <th></th>\n      <th>weekday</th>\n      <th>event_type_1</th>\n      <th>event_type_2</th>\n      <th>snap_CA</th>\n    </tr>\n    <tr>\n      <th>date</th>\n      <th></th>\n      <th></th>\n      <th></th>\n      <th></th>\n    </tr>\n  </thead>\n  <tbody>\n    <tr>\n      <th>2011-01-29</th>\n      <td>Saturday</td>\n      <td>NaN</td>\n      <td>NaN</td>\n      <td>0</td>\n    </tr>\n    <tr>\n      <th>2011-01-30</th>\n      <td>Sunday</td>\n      <td>NaN</td>\n      <td>NaN</td>\n      <td>0</td>\n    </tr>\n    <tr>\n      <th>2011-01-31</th>\n      <td>Monday</td>\n      <td>NaN</td>\n      <td>NaN</td>\n      <td>0</td>\n    </tr>\n    <tr>\n      <th>2011-02-01</th>\n      <td>Tuesday</td>\n      <td>NaN</td>\n      <td>NaN</td>\n      <td>1</td>\n    </tr>\n    <tr>\n      <th>2011-02-02</th>\n      <td>Wednesday</td>\n      <td>NaN</td>\n      <td>NaN</td>\n      <td>1</td>\n    </tr>\n    <tr>\n      <th>...</th>\n      <td>...</td>\n      <td>...</td>\n      <td>...</td>\n      <td>...</td>\n    </tr>\n    <tr>\n      <th>2016-06-15</th>\n      <td>Wednesday</td>\n      <td>NaN</td>\n      <td>NaN</td>\n      <td>0</td>\n    </tr>\n    <tr>\n      <th>2016-06-16</th>\n      <td>Thursday</td>\n      <td>NaN</td>\n      <td>NaN</td>\n      <td>0</td>\n    </tr>\n    <tr>\n      <th>2016-06-17</th>\n      <td>Friday</td>\n      <td>NaN</td>\n      <td>NaN</td>\n      <td>0</td>\n    </tr>\n    <tr>\n      <th>2016-06-18</th>\n      <td>Saturday</td>\n      <td>NaN</td>\n      <td>NaN</td>\n      <td>0</td>\n    </tr>\n    <tr>\n      <th>2016-06-19</th>\n      <td>Sunday</td>\n      <td>Sporting</td>\n      <td>Cultural</td>\n      <td>0</td>\n    </tr>\n  </tbody>\n</table>\n<p>1969 rows × 4 columns</p>\n</div>",
      "text/plain": "              weekday event_type_1 event_type_2  snap_CA\ndate                                                    \n2011-01-29   Saturday          NaN          NaN        0\n2011-01-30     Sunday          NaN          NaN        0\n2011-01-31     Monday          NaN          NaN        0\n2011-02-01    Tuesday          NaN          NaN        1\n2011-02-02  Wednesday          NaN          NaN        1\n...               ...          ...          ...      ...\n2016-06-15  Wednesday          NaN          NaN        0\n2016-06-16   Thursday          NaN          NaN        0\n2016-06-17     Friday          NaN          NaN        0\n2016-06-18   Saturday          NaN          NaN        0\n2016-06-19     Sunday     Sporting     Cultural        0\n\n[1969 rows x 4 columns]"
     },
     "execution_count": 21,
     "metadata": {},
     "output_type": "execute_result"
    }
   ],
   "source": [
    "calendar"
   ]
  },
  {
   "cell_type": "code",
   "execution_count": 22,
   "metadata": {},
   "outputs": [],
   "source": [
    "type1 = calendar.event_type_1.unique()[1:]\n",
    "type2 = calendar.event_type_2.unique()[1:]\n",
    "type1 = pd.get_dummies(calendar.event_type_1)\n",
    "type2 = pd.get_dummies(calendar.event_type_2)\n",
    "type1.Cultural += type2.Cultural\n",
    "type1.Religious += type2.Religious\n",
    "\n",
    "w_day = pd.get_dummies(calendar.weekday)\n",
    "\n",
    "calendar = calendar.drop(['event_type_1', 'event_type_2','weekday'], axis=1)"
   ]
  },
  {
   "cell_type": "code",
   "execution_count": 29,
   "metadata": {},
   "outputs": [],
   "source": [
    "calendar = pd.concat([calendar,w_day,type1],axis=1)"
   ]
  },
  {
   "cell_type": "code",
   "execution_count": 30,
   "metadata": {},
   "outputs": [
    {
     "output_type": "execute_result",
     "data": {
      "text/plain": "            snap_CA  Friday  Monday  Saturday  Sunday  Thursday  Tuesday  \\\ndate                                                                       \n2011-01-29        0       0       0         1       0         0        0   \n2011-01-30        0       0       0         0       1         0        0   \n2011-01-31        0       0       1         0       0         0        0   \n2011-02-01        1       0       0         0       0         0        1   \n2011-02-02        1       0       0         0       0         0        0   \n...             ...     ...     ...       ...     ...       ...      ...   \n2016-06-15        0       0       0         0       0         0        0   \n2016-06-16        0       0       0         0       0         1        0   \n2016-06-17        0       1       0         0       0         0        0   \n2016-06-18        0       0       0         1       0         0        0   \n2016-06-19        0       0       0         0       1         0        0   \n\n            Wednesday  Cultural  National  Religious  Sporting  \ndate                                                            \n2011-01-29          0         0         0          0         0  \n2011-01-30          0         0         0          0         0  \n2011-01-31          0         0         0          0         0  \n2011-02-01          0         0         0          0         0  \n2011-02-02          1         0         0          0         0  \n...               ...       ...       ...        ...       ...  \n2016-06-15          1         0         0          0         0  \n2016-06-16          0         0         0          0         0  \n2016-06-17          0         0         0          0         0  \n2016-06-18          0         0         0          0         0  \n2016-06-19          0         1         0          0         1  \n\n[1969 rows x 12 columns]",
      "text/html": "<div>\n<style scoped>\n    .dataframe tbody tr th:only-of-type {\n        vertical-align: middle;\n    }\n\n    .dataframe tbody tr th {\n        vertical-align: top;\n    }\n\n    .dataframe thead th {\n        text-align: right;\n    }\n</style>\n<table border=\"1\" class=\"dataframe\">\n  <thead>\n    <tr style=\"text-align: right;\">\n      <th></th>\n      <th>snap_CA</th>\n      <th>Friday</th>\n      <th>Monday</th>\n      <th>Saturday</th>\n      <th>Sunday</th>\n      <th>Thursday</th>\n      <th>Tuesday</th>\n      <th>Wednesday</th>\n      <th>Cultural</th>\n      <th>National</th>\n      <th>Religious</th>\n      <th>Sporting</th>\n    </tr>\n    <tr>\n      <th>date</th>\n      <th></th>\n      <th></th>\n      <th></th>\n      <th></th>\n      <th></th>\n      <th></th>\n      <th></th>\n      <th></th>\n      <th></th>\n      <th></th>\n      <th></th>\n      <th></th>\n    </tr>\n  </thead>\n  <tbody>\n    <tr>\n      <th>2011-01-29</th>\n      <td>0</td>\n      <td>0</td>\n      <td>0</td>\n      <td>1</td>\n      <td>0</td>\n      <td>0</td>\n      <td>0</td>\n      <td>0</td>\n      <td>0</td>\n      <td>0</td>\n      <td>0</td>\n      <td>0</td>\n    </tr>\n    <tr>\n      <th>2011-01-30</th>\n      <td>0</td>\n      <td>0</td>\n      <td>0</td>\n      <td>0</td>\n      <td>1</td>\n      <td>0</td>\n      <td>0</td>\n      <td>0</td>\n      <td>0</td>\n      <td>0</td>\n      <td>0</td>\n      <td>0</td>\n    </tr>\n    <tr>\n      <th>2011-01-31</th>\n      <td>0</td>\n      <td>0</td>\n      <td>1</td>\n      <td>0</td>\n      <td>0</td>\n      <td>0</td>\n      <td>0</td>\n      <td>0</td>\n      <td>0</td>\n      <td>0</td>\n      <td>0</td>\n      <td>0</td>\n    </tr>\n    <tr>\n      <th>2011-02-01</th>\n      <td>1</td>\n      <td>0</td>\n      <td>0</td>\n      <td>0</td>\n      <td>0</td>\n      <td>0</td>\n      <td>1</td>\n      <td>0</td>\n      <td>0</td>\n      <td>0</td>\n      <td>0</td>\n      <td>0</td>\n    </tr>\n    <tr>\n      <th>2011-02-02</th>\n      <td>1</td>\n      <td>0</td>\n      <td>0</td>\n      <td>0</td>\n      <td>0</td>\n      <td>0</td>\n      <td>0</td>\n      <td>1</td>\n      <td>0</td>\n      <td>0</td>\n      <td>0</td>\n      <td>0</td>\n    </tr>\n    <tr>\n      <th>...</th>\n      <td>...</td>\n      <td>...</td>\n      <td>...</td>\n      <td>...</td>\n      <td>...</td>\n      <td>...</td>\n      <td>...</td>\n      <td>...</td>\n      <td>...</td>\n      <td>...</td>\n      <td>...</td>\n      <td>...</td>\n    </tr>\n    <tr>\n      <th>2016-06-15</th>\n      <td>0</td>\n      <td>0</td>\n      <td>0</td>\n      <td>0</td>\n      <td>0</td>\n      <td>0</td>\n      <td>0</td>\n      <td>1</td>\n      <td>0</td>\n      <td>0</td>\n      <td>0</td>\n      <td>0</td>\n    </tr>\n    <tr>\n      <th>2016-06-16</th>\n      <td>0</td>\n      <td>0</td>\n      <td>0</td>\n      <td>0</td>\n      <td>0</td>\n      <td>1</td>\n      <td>0</td>\n      <td>0</td>\n      <td>0</td>\n      <td>0</td>\n      <td>0</td>\n      <td>0</td>\n    </tr>\n    <tr>\n      <th>2016-06-17</th>\n      <td>0</td>\n      <td>1</td>\n      <td>0</td>\n      <td>0</td>\n      <td>0</td>\n      <td>0</td>\n      <td>0</td>\n      <td>0</td>\n      <td>0</td>\n      <td>0</td>\n      <td>0</td>\n      <td>0</td>\n    </tr>\n    <tr>\n      <th>2016-06-18</th>\n      <td>0</td>\n      <td>0</td>\n      <td>0</td>\n      <td>1</td>\n      <td>0</td>\n      <td>0</td>\n      <td>0</td>\n      <td>0</td>\n      <td>0</td>\n      <td>0</td>\n      <td>0</td>\n      <td>0</td>\n    </tr>\n    <tr>\n      <th>2016-06-19</th>\n      <td>0</td>\n      <td>0</td>\n      <td>0</td>\n      <td>0</td>\n      <td>1</td>\n      <td>0</td>\n      <td>0</td>\n      <td>0</td>\n      <td>1</td>\n      <td>0</td>\n      <td>0</td>\n      <td>1</td>\n    </tr>\n  </tbody>\n</table>\n<p>1969 rows × 12 columns</p>\n</div>"
     },
     "metadata": {},
     "execution_count": 30
    }
   ],
   "source": [
    "calendar"
   ]
  },
  {
   "cell_type": "code",
   "execution_count": null,
   "metadata": {},
   "outputs": [],
   "source": []
  }
 ]
}